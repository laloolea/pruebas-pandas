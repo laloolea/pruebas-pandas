{
 "cells": [
  {
   "cell_type": "code",
   "execution_count": 489,
   "metadata": {},
   "outputs": [
    {
     "name": "stdout",
     "output_type": "stream",
     "text": [
      "Setup complete.\n",
      "Setup Complete\n"
     ]
    },
    {
     "name": "stderr",
     "output_type": "stream",
     "text": [
      "/Users/eduardogonzalez/opt/anaconda3/lib/python3.7/site-packages/IPython/core/interactiveshell.py:3058: DtypeWarning: Columns (11,16) have mixed types. Specify dtype option on import or set low_memory=False.\n",
      "  interactivity=interactivity, compiler=compiler, result=result)\n"
     ]
    }
   ],
   "source": [
    "import pandas as pd\n",
    "\n",
    "delitos = pd.read_csv(\"/Users/eduardogonzalez/Desktop/Pandas Kaggle/denuncias-victimas-pgj.csv\",\n",
    "                      encoding = \"ISO-8859-1\")\n",
    "#pd.set_option(\"display.max_rows\", 10)\n",
    "\n",
    "print(\"Setup complete.\")\n",
    "\n",
    "\n",
    "from sklearn.decomposition import PCA\n",
    "pd.plotting.register_matplotlib_converters()\n",
    "import matplotlib.pyplot as plt\n",
    "%matplotlib inline\n",
    "import seaborn as sns\n",
    "from mpl_toolkits.mplot3d import Axes3D\n",
    "print(\"Setup Complete\")\n",
    "import numpy as np\n",
    "from sklearn.preprocessing import LabelEncoder\n",
    "from sklearn.preprocessing import MinMaxScaler\n",
    "from sklearn.cluster import KMeans\n",
    "from sklearn.metrics import pairwise_distances_argmin_min\n",
    "from mpl_toolkits.mplot3d import Axes3D\n",
    "from sklearn.model_selection import train_test_split"
   ]
  },
  {
   "cell_type": "code",
   "execution_count": null,
   "metadata": {},
   "outputs": [],
   "source": []
  },
  {
   "cell_type": "markdown",
   "metadata": {},
   "source": [
    "# Vista previa de los datos\n",
    "\n"
   ]
  },
  {
   "cell_type": "code",
   "execution_count": 490,
   "metadata": {},
   "outputs": [
    {
     "data": {
      "text/html": [
       "<div>\n",
       "<style scoped>\n",
       "    .dataframe tbody tr th:only-of-type {\n",
       "        vertical-align: middle;\n",
       "    }\n",
       "\n",
       "    .dataframe tbody tr th {\n",
       "        vertical-align: top;\n",
       "    }\n",
       "\n",
       "    .dataframe thead th {\n",
       "        text-align: right;\n",
       "    }\n",
       "</style>\n",
       "<table border=\"1\" class=\"dataframe\">\n",
       "  <thead>\n",
       "    <tr style=\"text-align: right;\">\n",
       "      <th></th>\n",
       "      <th>idCarpeta</th>\n",
       "      <th>Delito</th>\n",
       "      <th>Categoria</th>\n",
       "      <th>FechaHecho</th>\n",
       "      <th>Anohecho</th>\n",
       "      <th>Mes_hecho</th>\n",
       "      <th>Sexo</th>\n",
       "      <th>Edad</th>\n",
       "      <th>TipoPersona</th>\n",
       "      <th>CalidadJuridica</th>\n",
       "      <th>lon</th>\n",
       "      <th>lat</th>\n",
       "      <th>geopoint</th>\n",
       "      <th>ClasificacionDelito</th>\n",
       "      <th>Unnamed: 14</th>\n",
       "      <th>Unnamed: 15</th>\n",
       "      <th>Unnamed: 16</th>\n",
       "    </tr>\n",
       "  </thead>\n",
       "  <tbody>\n",
       "    <tr>\n",
       "      <td>0</td>\n",
       "      <td>8511197</td>\n",
       "      <td>AMENAZAS</td>\n",
       "      <td>DELITO DE BAJO IMPACTO</td>\n",
       "      <td>31/08/19 20:15</td>\n",
       "      <td>2019</td>\n",
       "      <td>Agosto</td>\n",
       "      <td>Masculino</td>\n",
       "      <td>38</td>\n",
       "      <td>FISICA</td>\n",
       "      <td>VICTIMA Y DENUNCIANTE</td>\n",
       "      <td>-99.07223798</td>\n",
       "      <td>19.41027256</td>\n",
       "      <td>19.410273</td>\n",
       "      <td>-99.07223798</td>\n",
       "      <td>FUERO COMUN</td>\n",
       "      <td>NaN</td>\n",
       "      <td>NaN</td>\n",
       "    </tr>\n",
       "    <tr>\n",
       "      <td>1</td>\n",
       "      <td>8511198</td>\n",
       "      <td>ROBO DE VEHICULO DE SERVICIO PARTICULAR CON VI...</td>\n",
       "      <td>ROBO DE VEHíCULO CON Y SIN VIOLENCIA</td>\n",
       "      <td>31/08/19 21:00</td>\n",
       "      <td>2019</td>\n",
       "      <td>Agosto</td>\n",
       "      <td>Masculino</td>\n",
       "      <td>57</td>\n",
       "      <td>FISICA</td>\n",
       "      <td>VICTIMA Y DENUNCIANTE</td>\n",
       "      <td>-99.172779</td>\n",
       "      <td>19.2411539</td>\n",
       "      <td>19.241154</td>\n",
       "      <td>-99.172779</td>\n",
       "      <td>FUERO COMUN</td>\n",
       "      <td>NaN</td>\n",
       "      <td>NaN</td>\n",
       "    </tr>\n",
       "    <tr>\n",
       "      <td>2</td>\n",
       "      <td>8511199</td>\n",
       "      <td>DAíïO EN PROPIEDAD AJENA INTENCIONAL</td>\n",
       "      <td>DELITO DE BAJO IMPACTO</td>\n",
       "      <td>31/08/19 20:30</td>\n",
       "      <td>2019</td>\n",
       "      <td>Agosto</td>\n",
       "      <td>Femenino</td>\n",
       "      <td>34</td>\n",
       "      <td>FISICA</td>\n",
       "      <td>VICTIMA Y DENUNCIANTE</td>\n",
       "      <td>-99.2063041</td>\n",
       "      <td>19.2269421</td>\n",
       "      <td>19.226942</td>\n",
       "      <td>-99.2063041</td>\n",
       "      <td>FUERO COMUN</td>\n",
       "      <td>NaN</td>\n",
       "      <td>NaN</td>\n",
       "    </tr>\n",
       "    <tr>\n",
       "      <td>3</td>\n",
       "      <td>8511200</td>\n",
       "      <td>ROBO DE OBJETOS</td>\n",
       "      <td>DELITO DE BAJO IMPACTO</td>\n",
       "      <td>03/07/19 19:30</td>\n",
       "      <td>2019</td>\n",
       "      <td>Julio</td>\n",
       "      <td>Masculino</td>\n",
       "      <td>NaN</td>\n",
       "      <td>FISICA</td>\n",
       "      <td>VICTIMA Y DENUNCIANTE</td>\n",
       "      <td>-99.22957015</td>\n",
       "      <td>19.28505361</td>\n",
       "      <td>19.285054</td>\n",
       "      <td>-99.22957015</td>\n",
       "      <td>FUERO COMUN</td>\n",
       "      <td>NaN</td>\n",
       "      <td>NaN</td>\n",
       "    </tr>\n",
       "    <tr>\n",
       "      <td>4</td>\n",
       "      <td>8511208</td>\n",
       "      <td>DISCRIMINACION</td>\n",
       "      <td>DELITO DE BAJO IMPACTO</td>\n",
       "      <td>01/06/19 0:00</td>\n",
       "      <td>2019</td>\n",
       "      <td>Junio</td>\n",
       "      <td>Femenino</td>\n",
       "      <td>37</td>\n",
       "      <td>FISICA</td>\n",
       "      <td>VICTIMA Y DENUNCIANTE</td>\n",
       "      <td>-99.1015259</td>\n",
       "      <td>19.29423682</td>\n",
       "      <td>19.294237</td>\n",
       "      <td>-99.1015259</td>\n",
       "      <td>FUERO COMUN</td>\n",
       "      <td>NaN</td>\n",
       "      <td>NaN</td>\n",
       "    </tr>\n",
       "    <tr>\n",
       "      <td>5</td>\n",
       "      <td>8511211</td>\n",
       "      <td>VIOLENCIA FAMILIAR</td>\n",
       "      <td>DELITO DE BAJO IMPACTO</td>\n",
       "      <td>31/08/19 12:15</td>\n",
       "      <td>2019</td>\n",
       "      <td>Agosto</td>\n",
       "      <td>Masculino</td>\n",
       "      <td>31</td>\n",
       "      <td>FISICA</td>\n",
       "      <td>VICTIMA Y DENUNCIANTE</td>\n",
       "      <td>-99.1602847</td>\n",
       "      <td>19.2716191</td>\n",
       "      <td>19.271619</td>\n",
       "      <td>-99.1602847</td>\n",
       "      <td>FUERO COMUN</td>\n",
       "      <td>NaN</td>\n",
       "      <td>NaN</td>\n",
       "    </tr>\n",
       "    <tr>\n",
       "      <td>6</td>\n",
       "      <td>8511214</td>\n",
       "      <td>LESIONES CULPOSAS POR TRANSITO VEHICULAR EN CO...</td>\n",
       "      <td>DELITO DE BAJO IMPACTO</td>\n",
       "      <td>31/08/19 23:00</td>\n",
       "      <td>2019</td>\n",
       "      <td>Agosto</td>\n",
       "      <td>Femenino</td>\n",
       "      <td>28</td>\n",
       "      <td>FISICA</td>\n",
       "      <td>VICTIMA</td>\n",
       "      <td>-99.09695907</td>\n",
       "      <td>19.44555483</td>\n",
       "      <td>19.445555</td>\n",
       "      <td>-99.09695907</td>\n",
       "      <td>FUERO COMUN</td>\n",
       "      <td>NaN</td>\n",
       "      <td>NaN</td>\n",
       "    </tr>\n",
       "    <tr>\n",
       "      <td>7</td>\n",
       "      <td>8511215</td>\n",
       "      <td>VIOLENCIA FAMILIAR</td>\n",
       "      <td>DELITO DE BAJO IMPACTO</td>\n",
       "      <td>31/08/19 22:30</td>\n",
       "      <td>2019</td>\n",
       "      <td>Agosto</td>\n",
       "      <td>Femenino</td>\n",
       "      <td>28</td>\n",
       "      <td>FISICA</td>\n",
       "      <td>VICTIMA Y DENUNCIANTE</td>\n",
       "      <td>-99.1450598</td>\n",
       "      <td>19.4505419</td>\n",
       "      <td>19.450542</td>\n",
       "      <td>-99.1450598</td>\n",
       "      <td>FUERO COMUN</td>\n",
       "      <td>NaN</td>\n",
       "      <td>NaN</td>\n",
       "    </tr>\n",
       "    <tr>\n",
       "      <td>8</td>\n",
       "      <td>8511218</td>\n",
       "      <td>ROBO DE VEHICULO DE SERVICIO PARTICULAR SIN VI...</td>\n",
       "      <td>ROBO DE VEHíCULO CON Y SIN VIOLENCIA</td>\n",
       "      <td>31/08/19 19:30</td>\n",
       "      <td>2019</td>\n",
       "      <td>Agosto</td>\n",
       "      <td>Masculino</td>\n",
       "      <td>41</td>\n",
       "      <td>FISICA</td>\n",
       "      <td>VICTIMA Y DENUNCIANTE</td>\n",
       "      <td>-99.12074782</td>\n",
       "      <td>19.30676954</td>\n",
       "      <td>19.306770</td>\n",
       "      <td>-99.12074782</td>\n",
       "      <td>FUERO COMUN</td>\n",
       "      <td>NaN</td>\n",
       "      <td>NaN</td>\n",
       "    </tr>\n",
       "    <tr>\n",
       "      <td>9</td>\n",
       "      <td>8511242</td>\n",
       "      <td>ROBO A PASAJERO / CONDUCTOR DE VEHICULO CON VI...</td>\n",
       "      <td>DELITO DE BAJO IMPACTO</td>\n",
       "      <td>01/09/19 1:30</td>\n",
       "      <td>2019</td>\n",
       "      <td>Septiembre</td>\n",
       "      <td>Masculino</td>\n",
       "      <td>47</td>\n",
       "      <td>FISICA</td>\n",
       "      <td>VICTIMA Y DENUNCIANTE</td>\n",
       "      <td>-99.13925672</td>\n",
       "      <td>19.49029261</td>\n",
       "      <td>19.490293</td>\n",
       "      <td>-99.13925672</td>\n",
       "      <td>FUERO COMUN</td>\n",
       "      <td>NaN</td>\n",
       "      <td>NaN</td>\n",
       "    </tr>\n",
       "    <tr>\n",
       "      <td>10</td>\n",
       "      <td>8511246</td>\n",
       "      <td>ROBO A CASA HABITACION SIN VIOLENCIA</td>\n",
       "      <td>DELITO DE BAJO IMPACTO</td>\n",
       "      <td>01/09/19 1:00</td>\n",
       "      <td>2019</td>\n",
       "      <td>Septiembre</td>\n",
       "      <td>Masculino</td>\n",
       "      <td>49</td>\n",
       "      <td>FISICA</td>\n",
       "      <td>VICTIMA Y DENUNCIANTE</td>\n",
       "      <td>-99.2888346</td>\n",
       "      <td>19.3483394</td>\n",
       "      <td>19.348339</td>\n",
       "      <td>-99.2888346</td>\n",
       "      <td>FUERO COMUN</td>\n",
       "      <td>NaN</td>\n",
       "      <td>NaN</td>\n",
       "    </tr>\n",
       "    <tr>\n",
       "      <td>11</td>\n",
       "      <td>8511251</td>\n",
       "      <td>VIOLENCIA FAMILIAR</td>\n",
       "      <td>DELITO DE BAJO IMPACTO</td>\n",
       "      <td>01/09/19 2:30</td>\n",
       "      <td>2019</td>\n",
       "      <td>Septiembre</td>\n",
       "      <td>Masculino</td>\n",
       "      <td>41</td>\n",
       "      <td>FISICA</td>\n",
       "      <td>VICTIMA Y DENUNCIANTE</td>\n",
       "      <td>-99.06540692</td>\n",
       "      <td>19.42429464</td>\n",
       "      <td>19.424295</td>\n",
       "      <td>-99.06540692</td>\n",
       "      <td>FUERO COMUN</td>\n",
       "      <td>NaN</td>\n",
       "      <td>NaN</td>\n",
       "    </tr>\n",
       "    <tr>\n",
       "      <td>12</td>\n",
       "      <td>8511253</td>\n",
       "      <td>PERDIDA DE LA VIDA POR PARO CARDIACO</td>\n",
       "      <td>HECHO NO DELICTIVO</td>\n",
       "      <td>01/09/19 4:00</td>\n",
       "      <td>2019</td>\n",
       "      <td>Septiembre</td>\n",
       "      <td>Masculino</td>\n",
       "      <td>88</td>\n",
       "      <td>FISICA</td>\n",
       "      <td>CADAVER</td>\n",
       "      <td>NaN</td>\n",
       "      <td>NaN</td>\n",
       "      <td>NaN</td>\n",
       "      <td>HECHOS NO DELICTIVOS</td>\n",
       "      <td>NaN</td>\n",
       "      <td>NaN</td>\n",
       "      <td>NaN</td>\n",
       "    </tr>\n",
       "    <tr>\n",
       "      <td>13</td>\n",
       "      <td>8511254</td>\n",
       "      <td>VIOLENCIA FAMILIAR</td>\n",
       "      <td>DELITO DE BAJO IMPACTO</td>\n",
       "      <td>01/09/19 1:10</td>\n",
       "      <td>2019</td>\n",
       "      <td>Septiembre</td>\n",
       "      <td>Masculino</td>\n",
       "      <td>52</td>\n",
       "      <td>FISICA</td>\n",
       "      <td>VICTIMA Y DENUNCIANTE</td>\n",
       "      <td>-99.09379969</td>\n",
       "      <td>19.46222728</td>\n",
       "      <td>19.462227</td>\n",
       "      <td>-99.09379969</td>\n",
       "      <td>FUERO COMUN</td>\n",
       "      <td>NaN</td>\n",
       "      <td>NaN</td>\n",
       "    </tr>\n",
       "    <tr>\n",
       "      <td>14</td>\n",
       "      <td>8511257</td>\n",
       "      <td>DESAPARICION FORZADA DE PERSONAS</td>\n",
       "      <td>DELITO DE BAJO IMPACTO</td>\n",
       "      <td>28/08/19 2:30</td>\n",
       "      <td>2019</td>\n",
       "      <td>Agosto</td>\n",
       "      <td>Masculino</td>\n",
       "      <td>30</td>\n",
       "      <td>FISICA</td>\n",
       "      <td>VICTIMA</td>\n",
       "      <td>-99.13802016</td>\n",
       "      <td>19.39553857</td>\n",
       "      <td>19.395539</td>\n",
       "      <td>-99.13802016</td>\n",
       "      <td>FUERO COMUN</td>\n",
       "      <td>NaN</td>\n",
       "      <td>NaN</td>\n",
       "    </tr>\n",
       "    <tr>\n",
       "      <td>15</td>\n",
       "      <td>8511260</td>\n",
       "      <td>ROBO A TRANSEUNTE EN VIA PUBLICA CON VIOLENCIA</td>\n",
       "      <td>ROBO A TRANSEUNTE EN VíA Pí_BLICA CON Y SIN V...</td>\n",
       "      <td>01/09/19 2:20</td>\n",
       "      <td>2019</td>\n",
       "      <td>Septiembre</td>\n",
       "      <td>Masculino</td>\n",
       "      <td>28</td>\n",
       "      <td>FISICA</td>\n",
       "      <td>VICTIMA Y DENUNCIANTE</td>\n",
       "      <td>-99.2629934</td>\n",
       "      <td>19.3203439</td>\n",
       "      <td>19.320344</td>\n",
       "      <td>-99.2629934</td>\n",
       "      <td>FUERO COMUN</td>\n",
       "      <td>NaN</td>\n",
       "      <td>NaN</td>\n",
       "    </tr>\n",
       "    <tr>\n",
       "      <td>16</td>\n",
       "      <td>8511265</td>\n",
       "      <td>VIOLENCIA FAMILIAR</td>\n",
       "      <td>DELITO DE BAJO IMPACTO</td>\n",
       "      <td>01/09/19 0:30</td>\n",
       "      <td>2019</td>\n",
       "      <td>Septiembre</td>\n",
       "      <td>Femenino</td>\n",
       "      <td>47</td>\n",
       "      <td>FISICA</td>\n",
       "      <td>VICTIMA Y DENUNCIANTE</td>\n",
       "      <td>-99.2005585</td>\n",
       "      <td>19.3771804</td>\n",
       "      <td>19.377180</td>\n",
       "      <td>-99.2005585</td>\n",
       "      <td>FUERO COMUN</td>\n",
       "      <td>NaN</td>\n",
       "      <td>NaN</td>\n",
       "    </tr>\n",
       "    <tr>\n",
       "      <td>17</td>\n",
       "      <td>8511267</td>\n",
       "      <td>VIOLENCIA FAMILIAR</td>\n",
       "      <td>DELITO DE BAJO IMPACTO</td>\n",
       "      <td>01/09/19 3:30</td>\n",
       "      <td>2019</td>\n",
       "      <td>Septiembre</td>\n",
       "      <td>Femenino</td>\n",
       "      <td>46</td>\n",
       "      <td>FISICA</td>\n",
       "      <td>VICTIMA Y DENUNCIANTE</td>\n",
       "      <td>-99.1411184</td>\n",
       "      <td>19.5357931</td>\n",
       "      <td>19.535793</td>\n",
       "      <td>-99.1411184</td>\n",
       "      <td>FUERO COMUN</td>\n",
       "      <td>NaN</td>\n",
       "      <td>NaN</td>\n",
       "    </tr>\n",
       "    <tr>\n",
       "      <td>18</td>\n",
       "      <td>8511275</td>\n",
       "      <td>ROBO DE VEHICULO DE SERVICIO Pí_BLICO CON VIOL...</td>\n",
       "      <td>ROBO DE VEHíCULO CON Y SIN VIOLENCIA</td>\n",
       "      <td>31/08/19 22:45</td>\n",
       "      <td>2019</td>\n",
       "      <td>Agosto</td>\n",
       "      <td>Masculino</td>\n",
       "      <td>37</td>\n",
       "      <td>FISICA</td>\n",
       "      <td>VICTIMA Y DENUNCIANTE</td>\n",
       "      <td>-99.05884289</td>\n",
       "      <td>19.3986335</td>\n",
       "      <td>19.398633</td>\n",
       "      <td>-99.05884289</td>\n",
       "      <td>FUERO COMUN</td>\n",
       "      <td>NaN</td>\n",
       "      <td>NaN</td>\n",
       "    </tr>\n",
       "    <tr>\n",
       "      <td>19</td>\n",
       "      <td>8511276</td>\n",
       "      <td>ROBO DE ACCESORIOS DE AUTO</td>\n",
       "      <td>DELITO DE BAJO IMPACTO</td>\n",
       "      <td>01/09/19 5:00</td>\n",
       "      <td>2019</td>\n",
       "      <td>Septiembre</td>\n",
       "      <td>NaN</td>\n",
       "      <td>NaN</td>\n",
       "      <td>NaN</td>\n",
       "      <td>VICTIMA Y DENUNCIANTE</td>\n",
       "      <td>-99.14237283</td>\n",
       "      <td>19.49185746</td>\n",
       "      <td>19.491857</td>\n",
       "      <td>-99.14237283</td>\n",
       "      <td>FUERO COMUN</td>\n",
       "      <td>NaN</td>\n",
       "      <td>NaN</td>\n",
       "    </tr>\n",
       "  </tbody>\n",
       "</table>\n",
       "</div>"
      ],
      "text/plain": [
       "    idCarpeta                                             Delito  \\\n",
       "0     8511197                                           AMENAZAS   \n",
       "1     8511198  ROBO DE VEHICULO DE SERVICIO PARTICULAR CON VI...   \n",
       "2     8511199               DAíïO EN PROPIEDAD AJENA INTENCIONAL   \n",
       "3     8511200                                    ROBO DE OBJETOS   \n",
       "4     8511208                                     DISCRIMINACION   \n",
       "5     8511211                                 VIOLENCIA FAMILIAR   \n",
       "6     8511214  LESIONES CULPOSAS POR TRANSITO VEHICULAR EN CO...   \n",
       "7     8511215                                 VIOLENCIA FAMILIAR   \n",
       "8     8511218  ROBO DE VEHICULO DE SERVICIO PARTICULAR SIN VI...   \n",
       "9     8511242  ROBO A PASAJERO / CONDUCTOR DE VEHICULO CON VI...   \n",
       "10    8511246               ROBO A CASA HABITACION SIN VIOLENCIA   \n",
       "11    8511251                                 VIOLENCIA FAMILIAR   \n",
       "12    8511253               PERDIDA DE LA VIDA POR PARO CARDIACO   \n",
       "13    8511254                                 VIOLENCIA FAMILIAR   \n",
       "14    8511257                   DESAPARICION FORZADA DE PERSONAS   \n",
       "15    8511260     ROBO A TRANSEUNTE EN VIA PUBLICA CON VIOLENCIA   \n",
       "16    8511265                                 VIOLENCIA FAMILIAR   \n",
       "17    8511267                                 VIOLENCIA FAMILIAR   \n",
       "18    8511275  ROBO DE VEHICULO DE SERVICIO Pí_BLICO CON VIOL...   \n",
       "19    8511276                         ROBO DE ACCESORIOS DE AUTO   \n",
       "\n",
       "                                            Categoria      FechaHecho  \\\n",
       "0                              DELITO DE BAJO IMPACTO  31/08/19 20:15   \n",
       "1               ROBO DE VEHíCULO CON Y SIN VIOLENCIA  31/08/19 21:00   \n",
       "2                              DELITO DE BAJO IMPACTO  31/08/19 20:30   \n",
       "3                              DELITO DE BAJO IMPACTO  03/07/19 19:30   \n",
       "4                              DELITO DE BAJO IMPACTO   01/06/19 0:00   \n",
       "5                              DELITO DE BAJO IMPACTO  31/08/19 12:15   \n",
       "6                              DELITO DE BAJO IMPACTO  31/08/19 23:00   \n",
       "7                              DELITO DE BAJO IMPACTO  31/08/19 22:30   \n",
       "8               ROBO DE VEHíCULO CON Y SIN VIOLENCIA  31/08/19 19:30   \n",
       "9                              DELITO DE BAJO IMPACTO   01/09/19 1:30   \n",
       "10                             DELITO DE BAJO IMPACTO   01/09/19 1:00   \n",
       "11                             DELITO DE BAJO IMPACTO   01/09/19 2:30   \n",
       "12                                 HECHO NO DELICTIVO   01/09/19 4:00   \n",
       "13                             DELITO DE BAJO IMPACTO   01/09/19 1:10   \n",
       "14                             DELITO DE BAJO IMPACTO   28/08/19 2:30   \n",
       "15  ROBO A TRANSEUNTE EN VíA Pí_BLICA CON Y SIN V...   01/09/19 2:20   \n",
       "16                             DELITO DE BAJO IMPACTO   01/09/19 0:30   \n",
       "17                             DELITO DE BAJO IMPACTO   01/09/19 3:30   \n",
       "18              ROBO DE VEHíCULO CON Y SIN VIOLENCIA  31/08/19 22:45   \n",
       "19                             DELITO DE BAJO IMPACTO   01/09/19 5:00   \n",
       "\n",
       "   Anohecho   Mes_hecho       Sexo Edad TipoPersona        CalidadJuridica  \\\n",
       "0      2019      Agosto  Masculino   38      FISICA  VICTIMA Y DENUNCIANTE   \n",
       "1      2019      Agosto  Masculino   57      FISICA  VICTIMA Y DENUNCIANTE   \n",
       "2      2019      Agosto   Femenino   34      FISICA  VICTIMA Y DENUNCIANTE   \n",
       "3      2019       Julio  Masculino  NaN      FISICA  VICTIMA Y DENUNCIANTE   \n",
       "4      2019       Junio   Femenino   37      FISICA  VICTIMA Y DENUNCIANTE   \n",
       "5      2019      Agosto  Masculino   31      FISICA  VICTIMA Y DENUNCIANTE   \n",
       "6      2019      Agosto   Femenino   28      FISICA                VICTIMA   \n",
       "7      2019      Agosto   Femenino   28      FISICA  VICTIMA Y DENUNCIANTE   \n",
       "8      2019      Agosto  Masculino   41      FISICA  VICTIMA Y DENUNCIANTE   \n",
       "9      2019  Septiembre  Masculino   47      FISICA  VICTIMA Y DENUNCIANTE   \n",
       "10     2019  Septiembre  Masculino   49      FISICA  VICTIMA Y DENUNCIANTE   \n",
       "11     2019  Septiembre  Masculino   41      FISICA  VICTIMA Y DENUNCIANTE   \n",
       "12     2019  Septiembre  Masculino   88      FISICA                CADAVER   \n",
       "13     2019  Septiembre  Masculino   52      FISICA  VICTIMA Y DENUNCIANTE   \n",
       "14     2019      Agosto  Masculino   30      FISICA                VICTIMA   \n",
       "15     2019  Septiembre  Masculino   28      FISICA  VICTIMA Y DENUNCIANTE   \n",
       "16     2019  Septiembre   Femenino   47      FISICA  VICTIMA Y DENUNCIANTE   \n",
       "17     2019  Septiembre   Femenino   46      FISICA  VICTIMA Y DENUNCIANTE   \n",
       "18     2019      Agosto  Masculino   37      FISICA  VICTIMA Y DENUNCIANTE   \n",
       "19     2019  Septiembre        NaN  NaN         NaN  VICTIMA Y DENUNCIANTE   \n",
       "\n",
       "             lon          lat   geopoint   ClasificacionDelito  Unnamed: 14  \\\n",
       "0   -99.07223798  19.41027256  19.410273          -99.07223798  FUERO COMUN   \n",
       "1     -99.172779   19.2411539  19.241154            -99.172779  FUERO COMUN   \n",
       "2    -99.2063041   19.2269421  19.226942           -99.2063041  FUERO COMUN   \n",
       "3   -99.22957015  19.28505361  19.285054          -99.22957015  FUERO COMUN   \n",
       "4    -99.1015259  19.29423682  19.294237           -99.1015259  FUERO COMUN   \n",
       "5    -99.1602847   19.2716191  19.271619           -99.1602847  FUERO COMUN   \n",
       "6   -99.09695907  19.44555483  19.445555          -99.09695907  FUERO COMUN   \n",
       "7    -99.1450598   19.4505419  19.450542           -99.1450598  FUERO COMUN   \n",
       "8   -99.12074782  19.30676954  19.306770          -99.12074782  FUERO COMUN   \n",
       "9   -99.13925672  19.49029261  19.490293          -99.13925672  FUERO COMUN   \n",
       "10   -99.2888346   19.3483394  19.348339           -99.2888346  FUERO COMUN   \n",
       "11  -99.06540692  19.42429464  19.424295          -99.06540692  FUERO COMUN   \n",
       "12           NaN          NaN        NaN  HECHOS NO DELICTIVOS          NaN   \n",
       "13  -99.09379969  19.46222728  19.462227          -99.09379969  FUERO COMUN   \n",
       "14  -99.13802016  19.39553857  19.395539          -99.13802016  FUERO COMUN   \n",
       "15   -99.2629934   19.3203439  19.320344           -99.2629934  FUERO COMUN   \n",
       "16   -99.2005585   19.3771804  19.377180           -99.2005585  FUERO COMUN   \n",
       "17   -99.1411184   19.5357931  19.535793           -99.1411184  FUERO COMUN   \n",
       "18  -99.05884289   19.3986335  19.398633          -99.05884289  FUERO COMUN   \n",
       "19  -99.14237283  19.49185746  19.491857          -99.14237283  FUERO COMUN   \n",
       "\n",
       "   Unnamed: 15 Unnamed: 16  \n",
       "0          NaN         NaN  \n",
       "1          NaN         NaN  \n",
       "2          NaN         NaN  \n",
       "3          NaN         NaN  \n",
       "4          NaN         NaN  \n",
       "5          NaN         NaN  \n",
       "6          NaN         NaN  \n",
       "7          NaN         NaN  \n",
       "8          NaN         NaN  \n",
       "9          NaN         NaN  \n",
       "10         NaN         NaN  \n",
       "11         NaN         NaN  \n",
       "12         NaN         NaN  \n",
       "13         NaN         NaN  \n",
       "14         NaN         NaN  \n",
       "15         NaN         NaN  \n",
       "16         NaN         NaN  \n",
       "17         NaN         NaN  \n",
       "18         NaN         NaN  \n",
       "19         NaN         NaN  "
      ]
     },
     "execution_count": 490,
     "metadata": {},
     "output_type": "execute_result"
    }
   ],
   "source": [
    "delitos.head(20)"
   ]
  },
  {
   "cell_type": "code",
   "execution_count": 491,
   "metadata": {},
   "outputs": [
    {
     "data": {
      "text/plain": [
       "['idCarpeta',\n",
       " 'Delito',\n",
       " 'Categoria',\n",
       " 'FechaHecho',\n",
       " 'Anohecho',\n",
       " 'Mes_hecho',\n",
       " 'Sexo',\n",
       " 'Edad',\n",
       " 'TipoPersona',\n",
       " 'CalidadJuridica',\n",
       " 'lon',\n",
       " 'lat',\n",
       " 'geopoint',\n",
       " 'ClasificacionDelito',\n",
       " 'Unnamed: 14',\n",
       " 'Unnamed: 15',\n",
       " 'Unnamed: 16']"
      ]
     },
     "execution_count": 491,
     "metadata": {},
     "output_type": "execute_result"
    }
   ],
   "source": [
    "#delitos.rename(rename_axis(\"id\", axis='columns')\n",
    "list(delitos.columns) "
   ]
  },
  {
   "cell_type": "markdown",
   "metadata": {},
   "source": [
    "# Limpiando Datos (Borrando columnas)"
   ]
  },
  {
   "cell_type": "code",
   "execution_count": 492,
   "metadata": {},
   "outputs": [],
   "source": [
    "delitoslimpio=delitos\n",
    "delitoslimpio['Edad'] = delitoslimpio.Edad.fillna(30)\n",
    "delitoslimpio['TipoPersona'] = delitoslimpio.TipoPersona.fillna('No Especifica')\n",
    "delitoslimpio['Sexo'] = delitoslimpio.Sexo.fillna('No Especifica')\n",
    "delitoslimpio['lon'] = delitoslimpio.lon.fillna('No Especifica')\n",
    "delitoslimpio['lat'] = delitoslimpio.lat.fillna('No Especifica')\n",
    "delitoslimpio['Mes_hecho'] = delitoslimpio.lat.fillna('No Especifica')\n",
    "delitoslimpio= delitoslimpio.drop(\"idCarpeta\",axis=1)\n",
    "delitoslimpio= delitoslimpio.drop(\"ClasificacionDelito\",axis=1)\n",
    "delitoslimpio= delitoslimpio.drop(\"Unnamed: 14\",axis=1)\n",
    "delitoslimpio= delitoslimpio.drop(\"Unnamed: 15\",axis=1)\n",
    "delitoslimpio= delitoslimpio.drop(\"Unnamed: 16\",axis=1)\n",
    "#delitoslimpio= delitoslimpio.drop(\"Anohecho\",axis=1)\n",
    "delitoslimpio= delitoslimpio.drop(\"geopoint\",axis=1)\n",
    "\n",
    "#delitoslimpio= delitoslimpio.drop(\"Mes_hecho\",axis=1)\n",
    "\n",
    "\n",
    "\n"
   ]
  },
  {
   "cell_type": "code",
   "execution_count": 493,
   "metadata": {},
   "outputs": [
    {
     "data": {
      "text/plain": [
       "['Delito',\n",
       " 'Categoria',\n",
       " 'FechaHecho',\n",
       " 'Anohecho',\n",
       " 'Mes_hecho',\n",
       " 'Sexo',\n",
       " 'Edad',\n",
       " 'TipoPersona',\n",
       " 'CalidadJuridica',\n",
       " 'lon',\n",
       " 'lat']"
      ]
     },
     "execution_count": 493,
     "metadata": {},
     "output_type": "execute_result"
    }
   ],
   "source": [
    "list(delitoslimpio.columns) "
   ]
  },
  {
   "cell_type": "markdown",
   "metadata": {},
   "source": [
    "# Limpiando Datos (Reemplazando titulos delitos)"
   ]
  },
  {
   "cell_type": "markdown",
   "metadata": {},
   "source": [
    "#### Renombramos datos para sintetizar y agrupar."
   ]
  },
  {
   "cell_type": "code",
   "execution_count": 494,
   "metadata": {},
   "outputs": [
    {
     "data": {
      "text/plain": [
       "array(['AMENAZAS', 'ROBOVEHICULO', 'DANOPROPIEDAD', 'ASALTO',\n",
       "       'DISCRIMINACION', 'VIOLENCIAFAM', 'CHOQUE', 'ROBOCASA',\n",
       "       'FALLECIOENFERMO', 'SECUESTRO', 'LESIONINTENCIONALGRAVE',\n",
       "       'LESIONINTENCIONALBAJA', 'LESIONESINTENCIONALBAJA', 'HOMICIDIO',\n",
       "       'FRAUDE', 'PERDIDAVIDA', 'VENTADROGAS', 'VIOLACION',\n",
       "       'PORTACIONARMAS', 'ABUSOAUTORIDAD', 'LESIONINTENCIONALALTA',\n",
       "       'EXTORSION', 'MALTRATOANIMAL', 'ACOSOSEXUAL', 'CORRUPCIONMENORES',\n",
       "       'FRAUDES', 'TRATAPERSONAS', 'ENRIQUECIMIENTOILICITO', 'BIGAMIA',\n",
       "       'OTROS DELITOS'], dtype=object)"
      ]
     },
     "execution_count": 494,
     "metadata": {},
     "output_type": "execute_result"
    }
   ],
   "source": [
    "dict = {\"ROBO DE VEHICULO DE SERVICIO PARTICULAR CON VIOLENCIA\": \"ROBOVEHICULO\",\n",
    "       \"DAíïO EN PROPIEDAD AJENA INTENCIONAL\":\"DANOPROPIEDAD\",\n",
    "        \"VIOLENCIA FAMILIAR\": \"VIOLENCIAFAM\",\n",
    "       \"LESIONES CULPOSAS POR TRANSITO VEHICULAR EN COLISION\":\"CHOQUE\",\n",
    "       \"ROBO DE VEHICULO DE SERVICIO PARTICULAR SIN VIOLENCIA\":\"ROBOVEHICULO\",\n",
    "       \"ROBO A PASAJERO / CONDUCTOR DE VEHICULO CON VIOLENCIA\":\"ROBOVEHICULO\",\n",
    "       \"ROBO A CASA HABITACION SIN VIOLENCIA\":\"ROBOCASA\",\n",
    "       \"PERDIDA DE LA VIDA POR PARO CARDIACO\":\"FALLECIOENFERMO\",\n",
    "       \"DESAPARICION FORZADA DE PERSONAS\":\"SECUESTRO\",\n",
    "       \"ROBO A TRANSEUNTE EN VIA PUBLICA CON VIOLENCIA\":\"ASALTO\",\n",
    "       \"ROBO DE VEHICULO DE SERVICIO Pí_BLICO CON VIOLENCIA\":\"ROBOVEHICULO\",\n",
    "       \"ROBO DE ACCESORIO DE AUTO\":\"ROBOVEHICULO\",\n",
    "        \"LESIONES INTENCIONALES POR ARMA DE FUEGO\":\"LESIONINTENCIONALGRAVE\",\n",
    "       \"LESIONES INTENCIONALES POR GOLPES\":\"LESIONINTENCIONALBAJA\",\n",
    "       \"HOMICIDIO POR GOLPES\":\"HOMICIDIO\",\n",
    "       \"ROBO A NEGOCIO SIN VIOLENCIA\":\"DANOPROPIEDAD\",\n",
    "       \"FALSIFICACION DE TITULOS AL PORTADOR Y DOCUMENTOS DE CREDITO PUBLICO\":\"FRAUDE\",\n",
    "       \"USURPACIíñN DE IDENTIDAD\":\"FRAUDE\",\n",
    "       \"PERDIDA DE LA VIDA POR OTRAS CAUSAS\":\"PERDIDAVIDA\",\n",
    "       \"TENTATIVA DE FRAUDE\":\"FRAUDE\",\n",
    "       \"ROBO DE OBJETOS DEL INTERIOR DE UN VEHICULO\":\"ROBOVEHICULO\",\n",
    "       \"NARCOMENUDEO POSESION SIMPLE\":\"VENTADROGAS\",\n",
    "       \"LESIONES INTENCIONALES\":\"LESIONINTENCIONALBAJA\",\n",
    "       \"NARCOMENUDEO POSESIíñN CON FINES DE VENTA\":\"VENTADROGAS\",\n",
    "       \"VIOLACION EQUIPARADA\":\"VIOLACION\",\n",
    "       \"ROBO A TRANSEUNTE SALIENDO DEL CAJERO CON VIOLENCIA\":\"ASALTO\",\n",
    "       \"PORTACION ARMA/PROHIB.\":\"PORTACIONARMAS\",\n",
    "       \"ROBO A PASAJERO A BORDO DE TRANSPORTE Pí_BLICO CON VIOLENCIA\":\"ASALTO\",\n",
    "       \"ROBO DE PLACA DE AUTOMOVIL\":\"ASALTO\",\n",
    "       \"USO DE DOCUMENTO FALSO\":\"FRAUDE\",\n",
    "       \"ABUSO DE AUTORIDAD\":\"ABUSOAUTORIDAD\",\n",
    "       \"SUSTRACCION DE MENORES\":\"SECUESTRO\",\n",
    "       \"ROBO DE VEHICULO DE PEDALES\":\"ROBOVEHICULO\",\n",
    "       \"DAíïO EN PROPIEDAD AJENA CULPOSA POR TRí\\x81NSITO VEHICULAR A AUTOMOVIL\":\"ROBOVEHICULO\",\n",
    "       \"LESIONES CULPOSAS POR TRANSITO VEHICULAR\":\"CHOQUE\",\n",
    "       \"DESPOJO\":\"ASALTO\", \"ROBO A PASAJERO A BORDO DE METROBUS SIN VIOLENCIA\":\"ASALTO\",\n",
    "       \"ROBO DE VEHICULO DE SERVICIO Pí_BLICO SIN VIOLENCIA\":\"ROBOVEHICULO\",\n",
    "       \"LESIONES INTENCIONALES POR ARMA BLANCA\":\"LESIONINTENCIONALALTA\",\n",
    "       \"ROBO DE ALHAJAS\":\"ASALTO\",\n",
    "       \"ROBO DE OBJETOS A ESCUELA\":\"DANOPROPIEDAD\",\n",
    "       \"ROBO A CASA HABITACION Y VEHICULO CON VIOLENCIA\":\"DANOPROPIEDAD\",\n",
    "       \"ROBO DE DOCUMENTOS\":\"ASALTO\",\n",
    "       \"ROBO DE DINERO\":\"ASALTO\",\n",
    "       \"TENTATIVA DE EXTORSION\":\"EXTORSION\",\n",
    "       \"ROBO A TRANSEUNTE EN NEGOCIO CON VIOLENCIA\":\"DANOPROPIEDAD\",\n",
    "       \"DAíïO EN PROPIEDAD AJENA INTENCIONAL A AUTOMOVIL\":\"ROBOVEHICULO\",\n",
    "       \"FALSIFICACION DE DOCUMENTOS\":\"FRAUDE\",\n",
    "       \"DDH SIN DATOS\":\"FRAUDE\",\n",
    "       \"DAíïO EN PROPIEDAD AJENA CULPOSA\":\"DANOPROPIEDAD\",\n",
    "       \"DAíïO EN PROPIEDAD AJENA INTENCIONAL A CASA HABITACION\":\"DANOPROPIEDAD\",\n",
    "       \"ROBO DE MOTOCICLETA CON VIOLENCIA\":\"ROBOVEHICULO\",\n",
    "       \"TENTATIVA DE HOMICIDIO\":\"LESIONINTENCIONALALTA\",\n",
    "        \"PRIVACION DE LA LIBERTAD PERSONAL\":\"ASALTO\",\n",
    "        \"QUEBRANTAMIENTO DE SELLOS\":\"FRAUDE\",\n",
    "        \"MALTRATO ANIMAL\":\"MALTRATOANIMAL\",\n",
    "        \"ACOSO SEXUAL\":\"ACOSOSEXUAL\",\n",
    "        \"TORTURA\":\"SECUESTRO\",\n",
    "        \"LESIONES CULPOSAS\":\"LESIONINTENCIONALBAJA\",\n",
    "        \"ROBO A PASAJERO A BORDO DE PESERO COLECTIVO CON VIOLENCIA\":\"ASALTO\",\n",
    "        \"ROBO A PASAJERO / CONDUCTOR DE TAXI CON VIOLENCIA\":\"ASALTO\",\n",
    "        \"ROBO A PASAJERO A BORDO DE METRO CON VIOLENCIA\":\"ASALTO\",\n",
    "        \"ALLANAMIENTO DE MORADA\":\"DANOPROPIEDAD\",\n",
    "        \"ROBO A REPARTIDOR CON VIOLENCIA\":\"ASALTO\",\n",
    "        \"ROBO A PASAJERO A BORDO DE TAXI SIN VIOLENCIA\":\"ASALTO\",\n",
    "        \"ROBO A REPARTIDOR Y VEHICULO CON VIOLENCIA\":\"ASALTO\",\n",
    "        \"FALSEDAD DE DECLARACIONES\":\"FRAUDE\",\n",
    "        \"CORRUPCION DE MENORES\":\"CORRUPCIONMENORES\",\n",
    "        \"PERSONAS EXTRAVIADAS\":\"SECUESTRO\",\n",
    "        \"POSESION DE VEHICULO ROBADO\":\"ROBOVEHICULO\",\n",
    "        \"ROBO DE ANIMALES\":\"DANOPROPIEDAD\",\n",
    "        \"ROBO A PASAJERO A BORDO DE TRANSPORTE Pí_BLICO SIN VIOLENCIA\":\"ASALTO\",\n",
    "        \"ROBO A TRANSEUNTE EN PARQUES Y MERCADOS CON VIOLENCIA\":\"ASALTO\",\n",
    "        \"ROBO A PASAJERO A BORDO DE TAXI CON VIOLENCIA\":\"ASALTO\",\n",
    "        \"ROBO A TRANSEUNTE SALIENDO DEL BANCO CON VIOLENCIA\":\"ASALTO\",\n",
    "        \"ROBO A REPARTIDOR SIN VIOLENCIA\":\"ASALTO\",\n",
    "        \"DAíïO EN PROPIEDAD AJENA INTENCIONAL A BIENES INMUEBLES\":\"DANOPROPIEDAD\",\n",
    "        \"HOMICIDIO CULPOSO POR TRí\\x81NSITO VEHICULAR (CAIDA)\":\"HOMICIDIO\",\n",
    "        \"HOMICIDIO POR ARMA BLANCA\":\"HOMICIDIO\",\n",
    "        \"TENTATIVA DE ROBO\":\"LESIONINTENCIONALBAJA\",\n",
    "        \"ROBO A TRANSEUNTE EN RESTAURANT CON VIOLENCIA\":\"ASALTO\",\n",
    "        \"DISPAROS DE ARMA DE FUEGO\":\"LESIONINTENCIONALALTA\",\n",
    "        \"ROBO A OFICINA Pí_BLICA SIN VIOLENCIA\":\"DANOPROPIEDAD\",\n",
    "        \"SECUESTRO EXPRESS (PARA COMETER ROBO O EXTORSIíñN)\":\"SECUESTRO\",\n",
    "        \"HOMICIDIO CULPOSO POR TRí\\x81NSITO VEHICULAR (ATROPELLADO)\":\"HOMICIDIO\",\n",
    "        \"ROBO A TRANSPORTISTA Y VEHICULO PESADO CON VIOLENCIA\":\"ASALTO\",\n",
    "        \"TRATA DE PERSONAS\":\"TRATAPERSONAS\",\n",
    "        \"ROBO A TRANSEUNTE DE CELULAR SIN VIOLENCIA\":\"ASALTO\",\n",
    "        \"USURPACION DE PROFESION\":\"FRAUDE\",\n",
    "        \"ATAQUE A LAS VIAS GENERALES DE COMUNICACIíñN\":\"FRAUDE\",\n",
    "        \"LESIONES CULPOSAS POR QUEMADURAS\":\"LESIONINTENCIONALALTA\",\n",
    "        \"OPERACIONES CON RECURSOS DE PROCEDENCIA ILICITA\":\"LESIONINTENCIONALALTA\",\n",
    "        \"ATAQUE A LAS VIAS DE COMUNICACION (DAíïO A VIAS O MEDIOS DE TRANSPORTE)\":\"FRAUDE\",\n",
    "        \"TENTATIVA DE VIOLACION\":\"LESIONINTENCIONALALTA\",\n",
    "        \"LESIONES CULPOSAS ACCIDENTE LABORAL\":\"LESIONINTENCIONALBAJA\",\n",
    "        \"ROBO A PASAJERO EN RTP SIN VIOLENCIA\":\"ASALTO\",\n",
    "        \"FEMINICIDIO\":\"HOMICIDIO\",\n",
    "        \"CONTRA FUNCIONARIOS PUBLICOS\":\"ABUSOAUTORIDAD\",\n",
    "        \"ROBO A PASAJERO A BORDO DE PESERO COLECTIVO SIN VIOLENCIA\":\"ASALTO\",\n",
    "        \"VIOLACION EQUIPARADA POR CONOCIDO\":\"VIOLACION\",\n",
    "        \"ROBO A PASAJERO A BORDO DE METROBUS CON VIOLENCIA\":\"ASALTO\",\n",
    "        \"DAíïO EN PROPIEDAD AJENA INTENCIONAL A VIAS DE COMUNICACION\":\"DANOPROPIEDAD\",\n",
    "        \"ROBO A PASAJERO EN TROLEBUS CON VIOLENCIA\":\"ASALTO\",\n",
    "        \"ROBO A PASAJERO EN ECOBUS CON VIOLENCIA\":\"ASALTO\",\n",
    "        \"ROBO A SUCURSAL BANCARIA (ASALTO BANCARIO) CON VIOLENCIA\":\"DANOPROPIEDAD\",\n",
    "        \"TENTATIVA DE ROBO DE VEHICULO\":\"DANOPROPIEDAD\",\n",
    "        \"ROBO A NEGOCIO Y VEHICULO SIN VIOLENCIA\":\"DANOPROPIEDAD\",\n",
    "        \"ROBO EN INTERIOR DE EMPRESA (NOMINA) SIN VIOLENCIA\":\"DANOPROPIEDAD\",\n",
    "        \"ROBO A TRANSEUNTE Y VEHICULO CON VIOLENCIA\":\"ROBOVEHICULO\",\n",
    "        \"ROBO A TRANSEUNTE EN HOTEL CON VIOLENCIA\":\"ASALTO\",\n",
    "        \"ROBO A PASAJERO EN TREN LIGERO SIN VIOLENCIA\":\"ASALTO\",\n",
    "        \"ROBO DE VEHICULO DE SERVICIO OFICIAL SIN VIOLENCIA\":\"ROBOVEHICULO\",\n",
    "        \"ROBO A CASA HABITACION Y VEHICULO SIN VIOLENCIA\":\"DANOPROPIEDAD\",\n",
    "        \"HOMICIDIO CULPOSO FUERA DEL D.F (COLISION)\":\"HOMICIDIO\",\n",
    "        \"INTIMIDACION\":\"LESIONINTENCIONALBAJA\",\n",
    "        \"ROBO DE VEHICULO DE SERVICIO DE TRANSPORTE CON VIOLENCIA\":\"ROBOVEHICULO\",\n",
    "        \"LESIONES INTENCIONALES Y ROBO DE VEHICULO\":\"ROBOVEHICULO\",\n",
    "        \"ROBO A PASAJERO EN AUTOBí_S FORí\\x81NEO CON VIOLENCIA\":\"ASALTO\",\n",
    "        \"EXPLOTACIíñN DE MENOR O DISCAPACITADO\":\"CORRUPCIONMENORES\",\n",
    "        \"ROBO DE MAQUINARIA CON VIOLENCIA\":\"ASALTO\",\n",
    "        \"ROBO A TRANSPORTISTA Y VEHICULO PESADO SIN VIOLENCIA\":\"ASALTO\",\n",
    "        \"HOMICIDIO CULPOSO POR ARMA DE FUEGO\":\"HOMICIDIO\",\n",
    "        \"ROBO A PASAJERO EN TROLEBUS SIN VIOLENCIA\":\"ASALTO\",\n",
    "        \"ROBO DE VEHICULO DE SERVICIO OFICIAL CON VIOLENCIA\":\"ROBOVEHICULO\",\n",
    "        \"ROBO A PASAJERO EN TREN LIGERO CON VIOLENCIA\":\"ASALTO\",\n",
    "        \"ROBO DE VEHICULO DE SERVICIO DE TRANSPORTE SIN VIOLENCIA\":\"ROBOVEHICULO\",\n",
    "        \"ROBO A PASAJERO EN TREN SUBURBANO SIN VIOLENCIA\":\"ASALTO\",\n",
    "        \"HOMICIDIO CULPOSO POR TRí\\x81NSITO VEHICULAR\":\"HOMICIDIO\",\n",
    "        \"ROBO A TRANSEUNTE EN VIA PUBLICA (NOMINA) CON VIOLENCIA\":\"ASALTO\",\n",
    "        \"DAíïO EN PROPIEDAD AJENA CULPOSA POR TRí\\x81NSITO VEHICULAR A VIAS DE COMUNICACION\":\"DANOPROPIEDAD\",\n",
    "        \"ROBO EN INTERIOR DE EMPRESA (NOMINA) CON VIOLENCIA\":\"DANOPROPIEDAD\",\n",
    "        \"USO INDEBIDO DE CONDECORACIONES UNIFORMES E INSIGNIAS\":\"FRAUDE\",\n",
    "        \"HOMICIDIO CULPOSO FUERA DEL D.F (ATROPELLADO)\":\"HOMICIDIO\",\n",
    "        \"ROBO A TRANSEUNTE EN TERMINAL DE PASAJEROS CON VIOLENCIA\":\"ASALTO\",\n",
    "        \"ROBO DE MAQUINARIA SIN VIOLENCIA\":\"DANOPROPIEDAD\",\n",
    "        \"TRAFICO DE INFLUENCIA\":\"FRAUDE\",\n",
    "        \"INTIMIDACION (EVITAR DENUNCIA\":\"LESIONINTENCIONALBAJA\",\n",
    "        \"ROBO A SUCURSAL BANCARIA (SUPERMERCADO) CON VIOLENCIA\":\"DANOPROPIEDAD\",\n",
    "        \"VIOLACION EQUIPARADA Y ROBO DE VEHICULO\":\"VIOLACION\",\n",
    "        \"ROBO DURANTE TRASLADO DE VALORES (NOMINA) CON VIOLENCIA\":\"ASALTO\",\n",
    "        \"HOMICIDIO CULPOSO\":\"HOMICIDIO\",\n",
    "        \"ROBO A OFICINA Pí_BLICA CON VIOLENCIA\":\"DANOPROPIEDAD\",\n",
    "        \"HOMICIDIO POR AHORCAMIENTO\":\"HOMICIDIO\",\n",
    "        \"VIOLACION TUMULTUARIA EQUIPARADA POR CONOCIDO\":\"VIOLACION\",\n",
    "        \"PRIVACION DE LA LIBERTAD PERSONAL (REALIZAR ACTO SEXUAL)\":\"VIOLACION\",\n",
    "        \"ROBO A REPARTIDOR Y VEHICULO SIN VIOLENCIA\":\"ASALTO\",\n",
    "        \"ASOCIACION DELICTUOSA\":\"FRAUDE\",\"ROBO A PASAJERO EN AUTOBUS FORANEO SIN VIOLENCIA\":\"ASALTO\",\n",
    "        \"VIOLACION TUMULTUARIA EQUIPARADA\":\"VIOLACION\",\n",
    "        \"ROBO A PASAJERO EN ECOBUS SIN VIOLENCIA\":\"ASALTO\",\n",
    "        \"ROBO A SUCURSAL BANCARIA (SUPERMERCADO) SIN VIOLENCIA\":\"DANOPROPIEDAD\",\n",
    "       \"ENRIQUECIMIENTO ILICITO\":\"ENRIQUECIMIENTOILICITO\",\n",
    "       \"DAíïO EN PROPIEDAD AJENA CULPOSA POR TRí\\x81NSITO VEHICULAR A BIENES INMUEBLES\":\"DANOPROPIEDAD\",\n",
    "       \"PORNOGRAFIA INFANTIL\":\"CORRUPCIONMENORES\",\"DELITOS DE ABOGADOS PATRONOS Y LITIGANTES\":\"FRAUDES\",\n",
    "       \"ABUSO SEXUAL\":\"VIOLACION\",\"LESIONES CULPOSAS POR CAIDA\":\"LESIONESINTENCIONALBAJA\",\n",
    "       \"FALSIFICACION DE SELLOS\":\"FRAUDE\",\n",
    "       \"ROBO DE ARMA\":\"ASALTO\",\n",
    "       \"ESTUPRO\":\"VIOLACION\",\n",
    "       \"ROBO A NEGOCIO CON VIOLENCIA\":\"DANOPROPIEDAD\",\n",
    "       \"ROBO DE MOTOCICLETA SIN VIOLENCIA\":\"ROBOVEHICULO\",\n",
    "       \"HOMICIDIO CULPOSO POR TRí\\x81NSITO VEHICULAR (COLISION)\":\"HOMICIDIO\",\n",
    "       \"ROBO A CASA HABITACION CON VIOLENCIA\":\"DANOPROPIEDAD\",\n",
    "       \"ROBO A TRANSEUNTE EN VIA PUBLICA SIN VIOLENCIA\":\"ASALTO\",\n",
    "       \"ROBO A PASAJERO A BORDO DE METRO SIN VIOLENCIA\":\"ASALTO\",\n",
    "       \"PORTACION DE ARMA DE FUEGO\":\"PORTACIONARMAS\",\n",
    "        \"HOMICIDIOS INTENCIONALES (OTROS)\":\"HOMICIDIO\",\n",
    "        \"HOMICIDIO POR ARMA DE FUEGO\":\"HOMICIDIO\",\n",
    "        \"DAíïO EN PROPIEDAD AJENA INTENCIONAL A NEGOCIO\":\"DANOPROPIEDAD\",\n",
    "        \"PRIV. ILEGAL DE LA LIB. Y ROBO DE VEHICULO\":\"SECUESTRO\",\n",
    "        \"ROBO A NEGOCIO Y VEHICULO CON VIOLENCIA\":\"DANOPROPIEDAD\",\n",
    "        \"ROBO A TRANSEUNTE DE CELULAR CON VIOLENCIA\":\"ASALTO\",\n",
    "        \"PLAGIO O SECUESTRO\":\"SECUESTRO\",\n",
    "        \"VIOLACION TUMULTUARIA\":\"VIOLACION\",\n",
    "        \"ROBO A PASAJERO EN RTP CON VIOLENCIA\":\"ASALTO\",\n",
    "        \"ROBO DE OBJETOS\":\"ASALTO\",\n",
    "        \"ROBO DE ACCESORIOS DE AUTO\":\"ROBOVEHICULO\"\n",
    "        \n",
    "       }\n",
    "delitoslimpio = delitoslimpio.replace({\"Delito\": dict})\n",
    "\n",
    "\n",
    "\n",
    "#BORRAR EXISTENTES\n",
    "#ENCUBRIMIENTO, DDH FRVT,COHECHO,RESPONSABILIDAD PROFESIONAL,INHUMACIONES Y/O EXHUMACIONES,GESTIíñN AMBIENTAL,\n",
    "#EXHORTOS,PERDIDA DE LA VIDA POR DERRUMBE, LA ADMINISTRACION DE JUSTICIA,VARIACION DE NOMBRE O DOMICILIO,\n",
    "#NEGACION DEL SERVICIO PUBLICO,DDH OTRAS MATERIAS,PERDIDA DE LA VIDA POR CAIDA,DELITOS AMBIENTALES,\n",
    "#REVELACION DE SECRETOS,INSOLVENCIA ALIMENTARIA,RESISTENCIA DE PARTICULARES (SE OPONGA O RESISTA),\n",
    "#COBRANZA ILEGITIMA, PERDIDA DE LA VIDA POR SUICIDIO, PERDIDA DE LA VIDA POR ENFERMEDAD\n",
    "#EJERCICIO INDEBIDO DEL SERVIDOR PUBLICO,TENTATIVA DE SUICIDIO,PERDIDA DE LA VIDA POR ASFIXIA\n",
    "#USO INDEBIDO DE ATRIBUCIONES Y FACULTADES,PERDIDA DE LA VIDA POR QUEMADURA,DESOBEDENCIA DE PARTICULARES\n",
    "#PERDIDA DE LA VIDA POR CONGESTION ALCOHOLICA,DENUNCIA DE HECHOS,PERDIDA DE LA VIDA ASFIXIA POR ALIMENTOS/ LIQUIDOS\n",
    "#ROBO DE FLUIDOS,PERDIDA DE LA VIDA POR ACCIDENTE LABORAL,REGULACIíñN URBANA,DELITOS ELECTORALES\n",
    "#VIOLACION DE CORRESPONDENCIA,DAíïO SUELO (ACTIVIDAD', 'USURPACION DE FUNCIONES,PERDIDA DE LA VIDA POR PRECIPITACION,\n",
    "#PERDIDA DE LA VIDA POR INTOXICACION, PECULADO,DDH ANONIMAS,DDH CERESO,DDH FDS,DDH INCOMPETENCIA,ULTRAJES\n",
    "#CONTRA EL ESTADO CIVIL,ENRIQUECIMIENTO ILICITO,PELIGRO DE CONTAGIO,CAMBIO DE USO DE SUELO,SABOTAJE,\n",
    "#BIGAMIA,OPOSICION A LA OBRA PUBLICA,CALUMNIAS,OTROS DELITOS,TALA,EVASION DE PRESOS,CONTAMINACIíñN O RESIDUOS\n",
    "#DIFAMACION,\n",
    "\n",
    "\n",
    "delitoslimpio=delitoslimpio.query(\"Delito != 'ENCUBRIMIENTO'\")\n",
    "delitoslimpio=delitoslimpio.query(\"Delito != 'DDH FRVT'\")\n",
    "delitoslimpio=delitoslimpio.query(\"Delito != 'COHECHO'\")\n",
    "delitoslimpio=delitoslimpio.query(\"Delito != 'RESPONSABILIDAD PROFESIONAL'\")\n",
    "delitoslimpio=delitoslimpio.query(\"Delito != 'INHUMACIONES Y/O EXHUMACIONES'\")\n",
    "delitoslimpio=delitoslimpio.query(\"Delito != 'GESTIíñN AMBIENTAL'\")\n",
    "delitoslimpio=delitoslimpio.query(\"Delito != 'EXHORTOS'\")\n",
    "delitoslimpio=delitoslimpio.query(\"Delito != 'PERDIDA DE LA VIDA POR DERRUMBE'\")\n",
    "delitoslimpio=delitoslimpio.query(\"Delito != 'LA ADMINISTRACION DE JUSTICIA'\")\n",
    "delitoslimpio=delitoslimpio.query(\"Delito != 'VARIACION DE NOMBRE O DOMICILIO'\")\n",
    "delitoslimpio=delitoslimpio.query(\"Delito != 'NEGACION DEL SERVICIO PUBLICO'\")\n",
    "delitoslimpio=delitoslimpio.query(\"Delito != 'DDH OTRAS MATERIAS'\")\n",
    "delitoslimpio=delitoslimpio.query(\"Delito != 'PERDIDA DE LA VIDA POR CAIDA'\")\n",
    "delitoslimpio=delitoslimpio.query(\"Delito != 'DELITOS AMBIENTALES'\")\n",
    "delitoslimpio=delitoslimpio.query(\"Delito != 'REVELACION DE SECRETOS'\")\n",
    "delitoslimpio=delitoslimpio.query(\"Delito != 'INSOLVENCIA ALIMENTARIA'\")\n",
    "delitoslimpio=delitoslimpio.query(\"Delito != 'RESISTENCIA DE PARTICULARES (SE OPONGA O RESISTA)'\")\n",
    "delitoslimpio=delitoslimpio.query(\"Delito != 'COBRANZA ILEGITIMA'\")\n",
    "delitoslimpio=delitoslimpio.query(\"Delito != 'PERDIDA DE LA VIDA POR SUICIDIO'\")\n",
    "delitoslimpio=delitoslimpio.query(\"Delito != 'PERDIDA DE LA VIDA POR ENFERMEDAD'\")\n",
    "delitoslimpio=delitoslimpio.query(\"Delito != 'EJERCICIO INDEBIDO DEL SERVIDOR PUBLICO'\")\n",
    "delitoslimpio=delitoslimpio.query(\"Delito != 'TENTATIVA DE SUICIDIO'\")\n",
    "delitoslimpio=delitoslimpio.query(\"Delito != 'PERDIDA DE LA VIDA POR ASFIXIA'\")\n",
    "delitoslimpio=delitoslimpio.query(\"Delito != 'USO INDEBIDO DE ATRIBUCIONES Y FACULTADES'\")\n",
    "delitoslimpio=delitoslimpio.query(\"Delito != 'DESOBEDENCIA DE PARTICULARES'\")\n",
    "delitoslimpio=delitoslimpio.query(\"Delito != 'PERDIDA DE LA VIDA POR CONGESTION ALCOHOLICA'\")\n",
    "delitoslimpio=delitoslimpio.query(\"Delito != 'DENUNCIA DE HECHOS'\")\n",
    "delitoslimpio=delitoslimpio.query(\"Delito != 'PERDIDA DE LA VIDA ASFIXIA POR ALIMENTOS/ LIQUIDOS'\")\n",
    "delitoslimpio=delitoslimpio.query(\"Delito != 'ROBO DE FLUIDOS'\")\n",
    "delitoslimpio=delitoslimpio.query(\"Delito != 'PERDIDA DE LA VIDA POR ACCIDENTE LABORAL'\")\n",
    "delitoslimpio=delitoslimpio.query(\"Delito != 'REGULACIíñN URBANA'\")\n",
    "delitoslimpio=delitoslimpio.query(\"Delito != 'DELITOS ELECTORALES'\")\n",
    "delitoslimpio=delitoslimpio.query(\"Delito != 'VIOLACION DE CORRESPONDENCIA'\")\n",
    "delitoslimpio=delitoslimpio.query(\"Delito != 'DAíïO SUELO (ACTIVIDAD'\")\n",
    "delitoslimpio=delitoslimpio.query(\"Delito != 'USURPACION DE FUNCIONES'\")\n",
    "delitoslimpio=delitoslimpio.query(\"Delito != 'PERDIDA DE LA VIDA POR PRECIPITACION'\")\n",
    "delitoslimpio=delitoslimpio.query(\"Delito != 'PERDIDA DE LA VIDA POR INTOXICACION'\")\n",
    "delitoslimpio=delitoslimpio.query(\"Delito != 'PECULADO'\")\n",
    "delitoslimpio=delitoslimpio.query(\"Delito != 'DDH ANONIMAS'\")\n",
    "delitoslimpio=delitoslimpio.query(\"Delito != 'DDH CERESO'\")\n",
    "delitoslimpio=delitoslimpio.query(\"Delito != 'DDH FDS'\")\n",
    "delitoslimpio=delitoslimpio.query(\"Delito != 'DDH INCOMPETENCIA'\")\n",
    "delitoslimpio=delitoslimpio.query(\"Delito != 'ULTRAJES'\")\n",
    "delitoslimpio=delitoslimpio.query(\"Delito != 'CONTRA EL ESTADO CIVIL'\")\n",
    "delitoslimpio=delitoslimpio.query(\"Delito != 'PELIGRO DE CONTAGIO'\")\n",
    "delitoslimpio=delitoslimpio.query(\"Delito != 'SABOTAJE'\")\n",
    "delitoslimpio=delitoslimpio.query(\"Delito != 'OPOSICION A LA OBRA PUBLICA'\")\n",
    "delitoslimpio=delitoslimpio.query(\"Delito != 'CALUMNIAS'\")\n",
    "delitoslimpio=delitoslimpio.query(\"Delito != 'TALA'\")\n",
    "delitoslimpio=delitoslimpio.query(\"Delito != 'EVASION DE PRESOS'\")\n",
    "delitoslimpio=delitoslimpio.query(\"Delito != 'CONTAMINACIíñN O RESIDUOS'\")\n",
    "delitoslimpio=delitoslimpio.query(\"Delito != 'DIFAMACION'\")\n",
    "delitoslimpio=delitoslimpio.query(\"Delito != 'PERDIDA DE LA VIDA POR SUICIDIO EN EL METRO'\")\n",
    "delitoslimpio=delitoslimpio.query(\"Delito != 'DDH RELACIONADAS'\")\n",
    "delitoslimpio=delitoslimpio.query(\"Delito != 'ABANDONO DE PERSONA'\")\n",
    "delitoslimpio=delitoslimpio.query(\"Delito != 'ABUSO DE CONFIANZA'\")\n",
    "delitoslimpio=delitoslimpio.query(\"Delito != 'PERDIDA DE LA VIDA POR QUEMADURA'\")\n",
    "delitoslimpio=delitoslimpio.query(\"Delito != 'DDH REDES'\")\n",
    "delitoslimpio=delitoslimpio.query(\"Delito != 'PERDIDA DE LA VIDA POR AHOGAMIENTO'\")\n",
    "delitoslimpio=delitoslimpio.query(\"Delito != 'DELITOS CONTRA LA SALUD'\")\n",
    "delitoslimpio=delitoslimpio.query(\"Delito != 'DDH OFICIO COLABORACION'\")\n",
    "delitoslimpio=delitoslimpio.query(\"Delito != 'ABORTO'\")\n",
    "delitoslimpio=delitoslimpio.query(\"Delito != 'CAMBIO DE USO DE SUELO'\")\n",
    "delitoslimpio=delitoslimpio.query(\"Delito != 'LESIONES CULPOSAS POR CAIDA DE VEHí\\x8dCULO EN MOVIMIENTO'\")\n",
    "\n",
    "\n",
    "\n",
    "\n",
    "\n",
    "\n",
    "\n",
    "\n",
    "\n",
    "delitoslimpio.Delito.unique()"
   ]
  },
  {
   "cell_type": "markdown",
   "metadata": {},
   "source": [
    "# Limpieza datos Sexo"
   ]
  },
  {
   "cell_type": "markdown",
   "metadata": {},
   "source": [
    "### Se le borraron datos erroneos"
   ]
  },
  {
   "cell_type": "code",
   "execution_count": 495,
   "metadata": {},
   "outputs": [],
   "source": [
    "delitoslimpio=delitoslimpio.query(\"Sexo != '2019'\")\n",
    "delitoslimpio=delitoslimpio.query(\"Sexo != 'Enero'\")\n",
    "delitoslimpio=delitoslimpio.query(\"Sexo != 'Febrero'\")\n",
    "delitoslimpio=delitoslimpio.query(\"Sexo != 'Marzo'\")\n",
    "delitoslimpio=delitoslimpio.query(\"Sexo != 'Abril'\")\n",
    "delitoslimpio=delitoslimpio.query(\"Sexo != 'Mayo'\")\n",
    "delitoslimpio=delitoslimpio.query(\"Sexo != 'Junio'\")\n",
    "delitoslimpio=delitoslimpio.query(\"Sexo != 'Julio'\")\n",
    "delitoslimpio=delitoslimpio.query(\"Sexo != 'Agosto'\")\n",
    "delitoslimpio=delitoslimpio.query(\"Sexo != 'Septiembre'\")\n",
    "delitoslimpio=delitoslimpio.query(\"Sexo != 'Octubre'\")\n",
    "delitoslimpio=delitoslimpio.query(\"Sexo != 'No se especifica'\")\n",
    "\n",
    "\n",
    "\n",
    "\n"
   ]
  },
  {
   "cell_type": "code",
   "execution_count": 496,
   "metadata": {},
   "outputs": [
    {
     "data": {
      "text/plain": [
       "array(['Masculino', 'Femenino', 'No Especifica'], dtype=object)"
      ]
     },
     "execution_count": 496,
     "metadata": {},
     "output_type": "execute_result"
    }
   ],
   "source": [
    "delitoslimpio.Sexo.unique()\n",
    "#delitoslimpio.head(20)"
   ]
  },
  {
   "cell_type": "markdown",
   "metadata": {},
   "source": [
    "# Limpieza datos categoria"
   ]
  },
  {
   "cell_type": "code",
   "execution_count": 497,
   "metadata": {},
   "outputs": [],
   "source": [
    "dict = {\"DELITO DE BAJO IMPACTO\": \"DELITOBAJO\", \"ROBO DE VEHí\\x8dCULO CON Y SIN VIOLENCIA\": \"DELITOMEDIO\",\n",
    "       \"ROBO A TRANSEUNTE EN Ví\\x8dA Pí_BLICA CON Y SIN VIOLENCIA\": \"DELITOBAJO\",\n",
    "        \"LESIONES DOLOSAS POR DISPARO DE ARMA DE FUEGO\": \"DELITOALTO\", \n",
    "       \"HOMICIDIO DOLOSO\": \"DELITOALTO\", \"HECHO NO DELICTIVO\": \"DELITOBAJO\",\n",
    "       \"VIOLACIíñN\": \"DELITOALTO\", \"ROBO A CUENTAHABIENTE SALIENDO DEL CAJERO CON VIOLENCIA\": \"DELITOBAJO\",\n",
    "       \"ROBO A NEGOCIO CON VIOLENCIA\":\"DELITOMEDIO\",\n",
    "       \"ROBO A CASA HABITACIíñN CON VIOLENCIA\":\"DELITOMEDIO\",\n",
    "       \"ROBO A PASAJERO A BORDO DEL METRO CON Y SIN VIOLENCIA\":\"DELITOBAJO\",\n",
    "       \"ROBO A PASAJERO A BORDO DE MICROBUS CON Y SIN VIOLENCIA\":\"DELITOMEDIO\",\n",
    "       \"ROBO A REPARTIDOR CON Y SIN VIOLENCIA\":\"DELITOBAJO\",\n",
    "       \"COMERCIO Y SUMINISTRO\":\"DELIOTOBAJO\",\n",
    "       \"ROBO A PASAJERO A BORDO DE TAXI CON VIOLENCIA\":\"DELITOMEDIO\",\n",
    "       \"ROBO A TRANSPORTISTA CON Y SIN VIOLENCIA\":\"DELITOMEDIO\",\n",
    "       \"SECUESTRO\":\"DELITOALTO\"}\n",
    "delitoslimpio = delitoslimpio.replace({\"Categoria\": dict})"
   ]
  },
  {
   "cell_type": "code",
   "execution_count": 498,
   "metadata": {},
   "outputs": [
    {
     "data": {
      "text/plain": [
       "array(['DELITOBAJO', 'DELITOMEDIO', 'DELITOALTO',\n",
       "       ' COMERCIO Y SUMINISTRO'], dtype=object)"
      ]
     },
     "execution_count": 498,
     "metadata": {},
     "output_type": "execute_result"
    }
   ],
   "source": [
    "delitoslimpio.Categoria.unique()"
   ]
  },
  {
   "cell_type": "markdown",
   "metadata": {},
   "source": [
    "# Limpieza datos CalidadJuridica"
   ]
  },
  {
   "cell_type": "code",
   "execution_count": 499,
   "metadata": {},
   "outputs": [],
   "source": [
    "dict = {\"LESIONADO\": \"DENUNCIANTE\", \"MENOR Ví\\x8dCTIMA\": \"VICTIMA\",\n",
    "       \"VICTIMA  NIíïO\": \"VICTIMA\",\"LESIONADO  ADOLESCENTE\":\"VICTIMA\",\n",
    "        \"VICTIMA  ADOLESCENTE\":\"VICTIMA\"\n",
    "        }\n",
    "delitoslimpio = delitoslimpio.replace({\"CalidadJuridica\": dict})\n",
    "\n",
    "delitoslimpio=delitoslimpio.query(\"CalidadJuridica != 'FALLECIDO'\")\n",
    "delitoslimpio=delitoslimpio.query(\"CalidadJuridica != 'CADAVER'\")\n"
   ]
  },
  {
   "cell_type": "markdown",
   "metadata": {},
   "source": [
    "# Limpieza datos lon y lat"
   ]
  },
  {
   "cell_type": "code",
   "execution_count": 500,
   "metadata": {},
   "outputs": [],
   "source": [
    "delitoslimpio=delitoslimpio.query(\"lon != 'No Especifica'\")\n",
    "delitoslimpio=delitoslimpio.query(\"lat != 'No Especifica'\")\n",
    "delitoslimpio=delitoslimpio.query(\"lon != 'VICTIMA'\")\n",
    "delitoslimpio=delitoslimpio.query(\"lat != 'VICTIMA'\")\n",
    "\n",
    "\n"
   ]
  },
  {
   "cell_type": "code",
   "execution_count": 564,
   "metadata": {},
   "outputs": [
    {
     "data": {
      "text/plain": [
       "1426579"
      ]
     },
     "execution_count": 564,
     "metadata": {},
     "output_type": "execute_result"
    }
   ],
   "source": [
    "delitoslimpio.size"
   ]
  },
  {
   "cell_type": "markdown",
   "metadata": {},
   "source": [
    "# Comparación de generos frecuencia de delitos"
   ]
  },
  {
   "cell_type": "code",
   "execution_count": 502,
   "metadata": {},
   "outputs": [
    {
     "data": {
      "text/plain": [
       "<matplotlib.axes._subplots.AxesSubplot at 0x1a25024b10>"
      ]
     },
     "execution_count": 502,
     "metadata": {},
     "output_type": "execute_result"
    },
    {
     "data": {
      "image/png": "[encoded data removed]",
      "text/plain": [
       "<Figure size 432x288 with 1 Axes>"
      ]
     },
     "metadata": {
      "needs_background": "light"
     },
     "output_type": "display_data"
    }
   ],
   "source": [
    "delitoslimpio['Sexo'].value_counts().plot.barh()\n"
   ]
  },
  {
   "cell_type": "markdown",
   "metadata": {},
   "source": [
    "# Delitos más comunes"
   ]
  },
  {
   "cell_type": "code",
   "execution_count": 503,
   "metadata": {},
   "outputs": [
    {
     "data": {
      "text/plain": [
       "Text(0, 0.5, 'Delito')"
      ]
     },
     "execution_count": 503,
     "metadata": {},
     "output_type": "execute_result"
    },
    {
     "data": {
      "image/png": "[encoded data removed]",
      "text/plain": [
       "<Figure size 1080x720 with 1 Axes>"
      ]
     },
     "metadata": {
      "needs_background": "light"
     },
     "output_type": "display_data"
    }
   ],
   "source": [
    "ax = delitoslimpio['Delito'].value_counts().head(12).plot(kind='barh', figsize=(15,10), fontsize=15)\n",
    "ax.set_title('10 delitos más comunes', size=24, y=1)\n",
    "plt.xticks(rotation=85)\n",
    "plt.xlabel('Número de ocurrencias')\n",
    "plt.ylabel('Delito')\n"
   ]
  },
  {
   "cell_type": "code",
   "execution_count": 504,
   "metadata": {},
   "outputs": [
    {
     "data": {
      "text/plain": [
       "count     129689\n",
       "unique        29\n",
       "top       ASALTO\n",
       "freq       29438\n",
       "Name: Delito, dtype: object"
      ]
     },
     "execution_count": 504,
     "metadata": {},
     "output_type": "execute_result"
    }
   ],
   "source": [
    "delitoslimpio.Delito.describe()"
   ]
  },
  {
   "cell_type": "markdown",
   "metadata": {},
   "source": [
    "# Calidad Juridica más común"
   ]
  },
  {
   "cell_type": "code",
   "execution_count": 505,
   "metadata": {},
   "outputs": [
    {
     "data": {
      "text/plain": [
       "Text(0, 0.5, 'Calidad Juridica')"
      ]
     },
     "execution_count": 505,
     "metadata": {},
     "output_type": "execute_result"
    },
    {
     "data": {
      "image/png": "[encoded data removed]",
      "text/plain": [
       "<Figure size 1080x720 with 1 Axes>"
      ]
     },
     "metadata": {
      "needs_background": "light"
     },
     "output_type": "display_data"
    }
   ],
   "source": [
    "ax = delitoslimpio['CalidadJuridica'].value_counts().head(12).plot(kind='barh', figsize=(15,10), fontsize=15)\n",
    "ax.set_title('Calidad Juridica', size=24, y=1)\n",
    "plt.xticks(rotation=85)\n",
    "plt.xlabel('Número de ocurrencias')\n",
    "plt.ylabel('Calidad Juridica')\n"
   ]
  },
  {
   "cell_type": "code",
   "execution_count": 506,
   "metadata": {},
   "outputs": [
    {
     "data": {
      "text/plain": [
       "Delito             object\n",
       "Categoria          object\n",
       "FechaHecho         object\n",
       "Anohecho           object\n",
       "Mes_hecho          object\n",
       "Sexo               object\n",
       "Edad               object\n",
       "TipoPersona        object\n",
       "CalidadJuridica    object\n",
       "lon                object\n",
       "lat                object\n",
       "dtype: object"
      ]
     },
     "execution_count": 506,
     "metadata": {},
     "output_type": "execute_result"
    }
   ],
   "source": [
    "delitoslimpio.dtypes"
   ]
  },
  {
   "cell_type": "code",
   "execution_count": 507,
   "metadata": {},
   "outputs": [
    {
     "data": {
      "text/plain": [
       "count     129689\n",
       "unique       105\n",
       "top           30\n",
       "freq       38551\n",
       "Name: Edad, dtype: int64"
      ]
     },
     "execution_count": 507,
     "metadata": {},
     "output_type": "execute_result"
    }
   ],
   "source": [
    "delitoslimpio.Edad.describe()\n"
   ]
  },
  {
   "cell_type": "markdown",
   "metadata": {},
   "source": [
    "# Edad más comun"
   ]
  },
  {
   "cell_type": "code",
   "execution_count": 508,
   "metadata": {},
   "outputs": [
    {
     "data": {
      "text/plain": [
       "Text(0, 0.5, 'Número de ocurrencias')"
      ]
     },
     "execution_count": 508,
     "metadata": {},
     "output_type": "execute_result"
    },
    {
     "data": {
      "image/png": "[encoded data removed]",
      "text/plain": [
       "<Figure size 1080x720 with 1 Axes>"
      ]
     },
     "metadata": {
      "needs_background": "light"
     },
     "output_type": "display_data"
    }
   ],
   "source": [
    "ax = delitoslimpio['Edad'].value_counts().head(12).plot(kind='bar', figsize=(15,10), fontsize=15)\n",
    "ax.set_title('Edad más comun', size=24, y=1)\n",
    "plt.xticks(rotation=0)\n",
    "plt.xlabel('Edad')\n",
    "plt.ylabel('Número de ocurrencias')"
   ]
  },
  {
   "cell_type": "code",
   "execution_count": 509,
   "metadata": {},
   "outputs": [
    {
     "data": {
      "text/plain": [
       "0         2019\n",
       "1         2019\n",
       "2         2019\n",
       "3         2019\n",
       "4         2019\n",
       "          ... \n",
       "145862    2019\n",
       "145865    2019\n",
       "145867    2019\n",
       "145868    2019\n",
       "145869    2019\n",
       "Name: Anohecho, Length: 129689, dtype: int64"
      ]
     },
     "execution_count": 509,
     "metadata": {},
     "output_type": "execute_result"
    }
   ],
   "source": [
    "delitoslimpio['Anohecho'] = delitoslimpio.Anohecho.fillna(2015)\n",
    "delitoslimpio['Anohecho'].astype(str).astype(int)\n"
   ]
  },
  {
   "cell_type": "code",
   "execution_count": 605,
   "metadata": {},
   "outputs": [],
   "source": [
    "\n",
    "labelEncoder = LabelEncoder()\n",
    "labelEncoder.fit(delitoslimpio['Delito'])\n",
    "delitoslimpio['Delito'] = labelEncoder.transform(delitoslimpio['Delito'])\n",
    "labelEncoder.fit(delitoslimpio['Categoria'])\n",
    "delitoslimpio['Categoria'] = labelEncoder.transform(delitoslimpio['Categoria'])\n",
    "#labelEncoder.fit(delitoslimpio['Anohecho'])\n",
    "#delitoslimpio['Anohecho'] = labelEncoder.transform(delitoslimpio['Anohecho'])\n",
    "#labelEncoder.fit(delitoslimpio['Mes_hecho'])\n",
    "#delitoslimpio['Mes_hecho'] = labelEncoder.transform(delitoslimpio['Mes_hecho'])\n",
    "#labelEncoder.fit(delitoslimpio['FechaHecho'])\n",
    "#delitoslimpio['FechaHecho'] = labelEncoder.transform(delitoslimpio['FechaHecho'])\n",
    "labelEncoder.fit(delitoslimpio['Sexo'])\n",
    "delitoslimpio['Sexo'] = labelEncoder.transform(delitoslimpio['Sexo'])\n",
    "#abelEncoder.fit(delitoslimpio['Edad'])\n",
    "#delitoslimpio['Edad'] = labelEncoder.transform(delitoslimpio['Edad'])\n",
    "labelEncoder.fit(delitoslimpio['TipoPersona'])\n",
    "delitoslimpio['TipoPersona'] = labelEncoder.transform(delitoslimpio['TipoPersona'])\n",
    "labelEncoder.fit(delitoslimpio['CalidadJuridica'])\n",
    "delitoslimpio['CalidadJuridica'] = labelEncoder.transform(delitoslimpio['CalidadJuridica'])\n",
    "#labelEncoder.fit(delitoslimpio['lon'])\n",
    "#delitoslimpio['lon'] = labelEncoder.transform(delitoslimpio['lon'])\n",
    "#labelEncoder.fit(delitoslimpio['lat'])\n",
    "#delitoslimpio['lat'] = labelEncoder.transform(delitoslimpio['lat'])\n",
    "\n",
    "#separando los conjuntos de los data en training y testing \n",
    "y = delitoslimpio.Categoria\n",
    "x = delitoslimpio.drop(\"Categoria\",axis=1)\n",
    "\n",
    "x_train,x_test,y_train,y_test=train_test_split(x,y,test_size=0.2)\n",
    "#obteniendo el arreglos de los features que se utilizaran dentro del k-means\n",
    "X = np.array(x_train[[\"Delito\",\"Sexo\"]])\n",
    "\n",
    "#Delito\tCategoria\tFechaHecho\tSexo\tEdad\tTipoPersona\tCalidadJuridica\tlon\tlat\n",
    "\n",
    "#delitoslimpio.Sexo.unique()\n"
   ]
  },
  {
   "cell_type": "markdown",
   "metadata": {},
   "source": [
    "# Pruebas Variables Dummies"
   ]
  },
  {
   "cell_type": "code",
   "execution_count": 606,
   "metadata": {},
   "outputs": [],
   "source": [
    "#delitoslimpio.describe\n",
    "#delitoslimpio= pd.get_dummies(delitoslimpio, columns=['Sexo'])\n",
    "#pd.get_dummies(delitoslimpio, columns=['Delito'])\n",
    "#pd.get_dummies(delitoslimpio, columns=['Categoria'])\n",
    "#pd.get_dummies(delitoslimpio, columns=['Anohecho'])\n",
    "#pd.get_dummies(delitoslimpio, columns=['Mes_hecho'])\n",
    "#delitoslimpio= pd.get_dummies(delitoslimpio, columns=['Sexo'])\n",
    "#list(delitoslimpio.columns)\n",
    "\n"
   ]
  },
  {
   "cell_type": "code",
   "execution_count": 607,
   "metadata": {},
   "outputs": [
    {
     "data": {
      "image/png": "[encoded data removed]",
      "text/plain": [
       "<Figure size 432x288 with 1 Axes>"
      ]
     },
     "metadata": {
      "needs_background": "light"
     },
     "output_type": "display_data"
    }
   ],
   "source": [
    "\n",
    "Nc = range(1, 20)\n",
    "kmeans = [KMeans(n_clusters=i) for i in Nc]\n",
    "kmeans\n",
    "score = [kmeans[i].fit(X).score(X) for i in range(len(kmeans))]\n",
    "#score\n",
    "plt.plot(Nc,score)\n",
    "plt.xlabel('Numero Clusters')\n",
    "plt.ylabel('Puntaje')\n",
    "plt.title('Curva Codito')\n",
    "plt.show()\n"
   ]
  },
  {
   "cell_type": "code",
   "execution_count": 608,
   "metadata": {},
   "outputs": [
    {
     "name": "stdout",
     "output_type": "stream",
     "text": [
      "[[22.04244335  0.82466995]\n",
      " [ 9.0430947   1.01354516]\n",
      " [ 2.8479084   0.72717557]\n",
      " [27.53493603  0.51054578]]\n"
     ]
    }
   ],
   "source": [
    "kmeans = KMeans(n_clusters=4).fit(X)\n",
    "centroids = kmeans.cluster_centers_\n",
    "print(centroids)"
   ]
  },
  {
   "cell_type": "code",
   "execution_count": 609,
   "metadata": {},
   "outputs": [
    {
     "data": {
      "text/plain": [
       "<mpl_toolkits.mplot3d.art3d.Path3DCollection at 0x1a5397d790>"
      ]
     },
     "execution_count": 609,
     "metadata": {},
     "output_type": "execute_result"
    },
    {
     "data": {
      "image/png": "[encoded data removed]",
      "text/plain": [
       "<Figure size 432x288 with 1 Axes>"
      ]
     },
     "metadata": {
      "needs_background": "light"
     },
     "output_type": "display_data"
    }
   ],
   "source": [
    "\n",
    "# prediciendo los cluster\n",
    "labels = kmeans.predict(X)\n",
    "# obteniendo los centros de los clusters\n",
    "C = kmeans.cluster_centers_\n",
    "\n",
    "#sección de código para generar gráfica 3d de los clusters\n",
    "colores=['red','green','blue','cyan']\n",
    "asignar=[]\n",
    "for row in labels:\n",
    "    asignar.append(colores[row])\n",
    " \n",
    "fig = plt.figure()\n",
    "ax = Axes3D(fig)\n",
    "ax.scatter(X[:, 0], X[:, 1], c=asignar,s=60)\n",
    "ax.scatter(C[:, 0], C[:, 1], marker='*', c=colores, s=1000)\n"
   ]
  },
  {
   "cell_type": "code",
   "execution_count": 610,
   "metadata": {},
   "outputs": [
    {
     "data": {
      "image/png": "[encoded data removed]",
      "text/plain": [
       "<Figure size 432x288 with 1 Axes>"
      ]
     },
     "metadata": {
      "needs_background": "light"
     },
     "output_type": "display_data"
    }
   ],
   "source": [
    "\n",
    "# obteniendo valores y graficando de una manera bidimensional\n",
    "f1 = x_train['Delito'].values\n",
    "f2 = x_train['Sexo'].values\n",
    " \n",
    "plt.scatter(f1, f2, c=asignar, s=70)\n",
    "plt.scatter(C[:, 0], C[:, 1], marker='*', c=colores, s=1000)\n",
    "plt.show()\n"
   ]
  },
  {
   "cell_type": "code",
   "execution_count": null,
   "metadata": {},
   "outputs": [],
   "source": []
  },
  {
   "cell_type": "code",
   "execution_count": null,
   "metadata": {},
   "outputs": [],
   "source": []
  }
 ],
 "metadata": {
  "kernelspec": {
   "display_name": "Python 3",
   "language": "python",
   "name": "python3"
  },
  "language_info": {
   "codemirror_mode": {
    "name": "ipython",
    "version": 3
   },
   "file_extension": ".py",
   "mimetype": "text/x-python",
   "name": "python",
   "nbconvert_exporter": "python",
   "pygments_lexer": "ipython3",
   "version": "3.7.4"
  }
 },
 "nbformat": 4,
 "nbformat_minor": 2
}
